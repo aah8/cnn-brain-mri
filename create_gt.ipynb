{
 "cells": [
  {
   "cell_type": "code",
   "execution_count": 42,
   "id": "1574e6e4",
   "metadata": {},
   "outputs": [],
   "source": [
    "import os\n",
    "import sys\n",
    "import numpy as np\n",
    "import pandas as pd\n",
    "\n",
    "import seaborn as sns\n",
    "import matplotlib.pyplot as plt\n",
    "\n",
    "import warnings; warnings.simplefilter('ignore')\n",
    "\n",
    "sns.set(font_scale=2)\n",
    "sns.set_style('white')"
   ]
  },
  {
   "cell_type": "code",
   "execution_count": 2,
   "id": "a75d1090",
   "metadata": {},
   "outputs": [
    {
     "ename": "ImportError",
     "evalue": "No module named cv2",
     "output_type": "error",
     "traceback": [
      "\u001b[0;31m---------------------------------------------------------------------------\u001b[0m",
      "\u001b[0;31mImportError\u001b[0m                               Traceback (most recent call last)",
      "\u001b[0;32m<ipython-input-2-bb3ce66d8e61>\u001b[0m in \u001b[0;36m<module>\u001b[0;34m()\u001b[0m\n\u001b[0;32m----> 1\u001b[0;31m \u001b[0;32mimport\u001b[0m \u001b[0mcv2\u001b[0m\u001b[0;34m\u001b[0m\u001b[0m\n\u001b[0m\u001b[1;32m      2\u001b[0m \u001b[0;34m\u001b[0m\u001b[0m\n\u001b[1;32m      3\u001b[0m \u001b[0mfilepath_no\u001b[0m \u001b[0;34m=\u001b[0m \u001b[0;34m'images/archive/brain_tumor_dataset/no'\u001b[0m\u001b[0;34m\u001b[0m\u001b[0m\n\u001b[1;32m      4\u001b[0m \u001b[0mfilepath_yes\u001b[0m \u001b[0;34m=\u001b[0m \u001b[0;34m'images/archive/brain_tumor_dataset/yes'\u001b[0m\u001b[0;34m\u001b[0m\u001b[0m\n\u001b[1;32m      5\u001b[0m \u001b[0;34m\u001b[0m\u001b[0m\n",
      "\u001b[0;31mImportError\u001b[0m: No module named cv2"
     ]
    }
   ],
   "source": [
    "import cv2 \n",
    "\n",
    "filepath_no = 'images/archive/brain_tumor_dataset/no'\n",
    "filepath_yes = 'images/archive/brain_tumor_dataset/yes'\n",
    "\n",
    "gtFr = pd.DataFrame()\n",
    "\n",
    "X = []\n",
    "y = []\n",
    "\n",
    "for f in os.listdir(filepath_no):\n",
    "    if ('._' not in f):\n",
    "        new_row={'path':filepath_no,'filename':f,'gt':0}\n",
    "        gtFr = gtFr.append(new_row,ignore_index=True)\n",
    "        \n",
    "        img_array = cv2.imread(os.path.join(filepath_no,f),cv2.IMREAD_GRAYSCALE)\n",
    "        new_img_array = cv2.resize(img_array, dsize=(80, 80))\n",
    "        plt.imshow(new_img_array,cmap=\"gray\")\n",
    "        \n",
    "        X.append(new_img_array)\n",
    "        y.append(category)\n",
    "        \n",
    "X"
   ]
  },
  {
   "cell_type": "code",
   "execution_count": null,
   "id": "0d1d838e",
   "metadata": {},
   "outputs": [],
   "source": []
  },
  {
   "cell_type": "code",
   "execution_count": null,
   "id": "bf214b96",
   "metadata": {},
   "outputs": [],
   "source": [
    "\n",
    "\n",
    "        \n",
    "for f in os.listdir(filepath_yes):\n",
    "    if ('._' not in f):\n",
    "        new_row={'path':filepath_no,'filename':f,'gt':1}\n",
    "        gtFr = gtFr.append(new_row,ignore_index=True)\n",
    "        \n",
    "gtFr = gtFr.reset_index(drop=False).rename(columns={'index':'fileID'})\n",
    "\n",
    "gtFr['gt'].value_counts()"
   ]
  },
  {
   "cell_type": "code",
   "execution_count": 47,
   "id": "4c74d339",
   "metadata": {},
   "outputs": [],
   "source": [
    "gtFr.set_index(['fileID']).to_csv('data/gt.csv')"
   ]
  },
  {
   "cell_type": "code",
   "execution_count": null,
   "id": "45f6676e",
   "metadata": {},
   "outputs": [],
   "source": []
  }
 ],
 "metadata": {
  "kernelspec": {
   "display_name": "Python 2",
   "language": "python",
   "name": "python2"
  },
  "language_info": {
   "codemirror_mode": {
    "name": "ipython",
    "version": 2
   },
   "file_extension": ".py",
   "mimetype": "text/x-python",
   "name": "python",
   "nbconvert_exporter": "python",
   "pygments_lexer": "ipython2",
   "version": "2.7.16"
  }
 },
 "nbformat": 4,
 "nbformat_minor": 5
}
